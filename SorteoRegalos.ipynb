{
 "cells": [
  {
   "cell_type": "code",
   "execution_count": 4,
   "metadata": {},
   "outputs": [
    {
     "name": "stdout",
     "output_type": "stream",
     "text": [
      "Dime el número de personas 5\n",
      "Dime el número de regalos 5\n",
      "Regalo número  1 para la persona número 2\n",
      "Regalo número  2 para la persona número 1\n",
      "Regalo número  3 para la persona número 2\n",
      "Regalo número  4 para la persona número 0\n",
      "Regalo número  5 para la persona número 4\n"
     ]
    }
   ],
   "source": [
    "# sorteo regalos CON repeticion\n",
    "# pide el número de aistentes y de regalos y los sortea\n",
    "# ojo que las personas se numeran desde 0, es decir que si hay 4 los numeros son 0,1,2,3 y los regalos desde 1 si hay 3 pues son 1,2 3\n",
    "import random\n",
    "asist = input(\"Dime el número de personas \")\n",
    "iasist = int(asist)\n",
    "iasist = iasist -1\n",
    "numreg = input(\"Dime el número de regalos \")\n",
    "inumreg = int(numreg)\n",
    "cont= 1\n",
    "while cont<=inumreg :\n",
    "    num_aleatorio = random.randint(0,iasist)\n",
    "    suertudo = num_aleatorio\n",
    "    print(\"Regalo número \",cont,\"para la persona número\",suertudo)\n",
    "    cont= cont+1\n"
   ]
  },
  {
   "cell_type": "code",
   "execution_count": 1,
   "metadata": {},
   "outputs": [
    {
     "name": "stdout",
     "output_type": "stream",
     "text": [
      "Dime el número de personas 9\n",
      "Dime el número de regalos 2\n",
      "el regalo número  1  para la persona número  2\n",
      "el regalo número  2  para la persona número  7\n"
     ]
    }
   ],
   "source": [
    "# sorteo regalos SIN repeticion\n",
    "# pide el número de aistentes y de regalos y los sortea\n",
    "# ojo que las personas se numeran desde 0, es decir que si hay 4 los numeros son 0,1,2,3 y los regalos desde 1 si hay 3 pues son 1,2 3\n",
    "import random\n",
    "import random\n",
    "asist = input(\"Dime el número de personas \")\n",
    "iasist = int(asist)\n",
    "ensala = list(range(iasist))\n",
    "numreg = input(\"Dime el número de regalos \")\n",
    "inumreg = int(numreg)\n",
    "premiados = random.sample(ensala,inumreg)\n",
    "#print(\"los suertudos son los números \",premiados)\n",
    "cont = 1\n",
    "while cont<=inumreg:\n",
    "    print(\"el regalo número \",cont,\" para la persona número \",premiados[(cont-1)])\n",
    "    cont=cont+1\n",
    "\n",
    "\n"
   ]
  },
  {
   "cell_type": "code",
   "execution_count": null,
   "metadata": {},
   "outputs": [],
   "source": []
  },
  {
   "cell_type": "code",
   "execution_count": null,
   "metadata": {},
   "outputs": [],
   "source": []
  }
 ],
 "metadata": {
  "kernelspec": {
   "display_name": "Python 3",
   "language": "python",
   "name": "python3"
  },
  "language_info": {
   "codemirror_mode": {
    "name": "ipython",
    "version": 3
   },
   "file_extension": ".py",
   "mimetype": "text/x-python",
   "name": "python",
   "nbconvert_exporter": "python",
   "pygments_lexer": "ipython3",
   "version": "3.7.1"
  }
 },
 "nbformat": 4,
 "nbformat_minor": 2
}
